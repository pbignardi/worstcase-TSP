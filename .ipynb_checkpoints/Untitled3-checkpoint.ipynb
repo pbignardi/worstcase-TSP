{
 "cells": [
  {
   "cell_type": "code",
   "execution_count": 2,
   "metadata": {},
   "outputs": [],
   "source": [
    "from worstTSP import solve, argmin_closest, plotRi, createRi\n",
    "from tsp import tsp\n",
    "from scipy.optimize import linear_sum_assignment\n",
    "from utils import CostMatrix, scatterPoints\n",
    "import numpy as np\n",
    "import matplotlib.pyplot as plt\n",
    "import matplotlib.cm as cm"
   ]
  },
  {
   "cell_type": "code",
   "execution_count": 11,
   "metadata": {},
   "outputs": [],
   "source": [
    "def OT_1D(Mu, Nu):\n",
    "    pi = {} # Trasport Plan\n",
    "    z = 0   # Optimal Value\n",
    "    # Residuals\n",
    "    m, n = len(Mu), len(Nu)\n",
    "    a = [mu for mu in Mu]\n",
    "    b = [nu for nu in Nu]\n",
    "    i, j = 0, 0\n",
    "    alpha = [n**2 for _ in range(m)]\n",
    "    beta = [n**2 for _ in range(n)]\n",
    "    while i < m and j < n:\n",
    "           \n",
    "        if a[i] == b[j]:\n",
    "            pi[i,j] = a[i]\n",
    "            z += pi[i,j]*(i-j)**2\n",
    "            i, j = i+1, j+1     \n",
    "            if i < m:\n",
    "                alpha[i] = beta[j-1] + (i - (j-1))**2\n",
    "            if j < n:\n",
    "                beta[j] = alpha[i-1] - ((i-1) - j)**2\n",
    "        else: \n",
    "            pi[i,j] = min(a[i], b[j])\n",
    "            z += pi[i,j]*(i-j)**2\n",
    "            if a[i] > b[j]:\n",
    "                a[i] = a[i] - b[j]\n",
    "                b[j] = 0\n",
    "                j = j + 1\n",
    "                if j < n:\n",
    "                    beta[j] = alpha[i] - (i - j)**2\n",
    "            else:\n",
    "                b[j] = b[j] - a[i]\n",
    "                a[i] = 0\n",
    "                i = i + 1\n",
    "                if i < m:\n",
    "                    alpha[i] = beta[j] + (i - j)**2\n",
    "                \n",
    "    return z"
   ]
  },
  {
   "cell_type": "code",
   "execution_count": 12,
   "metadata": {},
   "outputs": [
    {
     "ename": "ValueError",
     "evalue": "The truth value of an array with more than one element is ambiguous. Use a.any() or a.all()",
     "output_type": "error",
     "traceback": [
      "\u001b[1;31m---------------------------------------------------------------------------\u001b[0m",
      "\u001b[1;31mValueError\u001b[0m                                Traceback (most recent call last)",
      "\u001b[1;32m<ipython-input-12-ce76b0a2a397>\u001b[0m in \u001b[0;36m<module>\u001b[1;34m\u001b[0m\n\u001b[1;32m----> 1\u001b[1;33m \u001b[0mOT_1D\u001b[0m\u001b[1;33m(\u001b[0m\u001b[0mU\u001b[0m\u001b[1;33m,\u001b[0m\u001b[0mV\u001b[0m\u001b[1;33m)\u001b[0m\u001b[1;33m\u001b[0m\u001b[1;33m\u001b[0m\u001b[0m\n\u001b[0m",
      "\u001b[1;32m<ipython-input-11-b12c30d2f304>\u001b[0m in \u001b[0;36mOT_1D\u001b[1;34m(Mu, Nu)\u001b[0m\n\u001b[0;32m     11\u001b[0m     \u001b[1;32mwhile\u001b[0m \u001b[0mi\u001b[0m \u001b[1;33m<\u001b[0m \u001b[0mm\u001b[0m \u001b[1;32mand\u001b[0m \u001b[0mj\u001b[0m \u001b[1;33m<\u001b[0m \u001b[0mn\u001b[0m\u001b[1;33m:\u001b[0m\u001b[1;33m\u001b[0m\u001b[1;33m\u001b[0m\u001b[0m\n\u001b[0;32m     12\u001b[0m \u001b[1;33m\u001b[0m\u001b[0m\n\u001b[1;32m---> 13\u001b[1;33m         \u001b[1;32mif\u001b[0m \u001b[0ma\u001b[0m\u001b[1;33m[\u001b[0m\u001b[0mi\u001b[0m\u001b[1;33m]\u001b[0m \u001b[1;33m==\u001b[0m \u001b[0mb\u001b[0m\u001b[1;33m[\u001b[0m\u001b[0mj\u001b[0m\u001b[1;33m]\u001b[0m\u001b[1;33m:\u001b[0m\u001b[1;33m\u001b[0m\u001b[1;33m\u001b[0m\u001b[0m\n\u001b[0m\u001b[0;32m     14\u001b[0m             \u001b[0mpi\u001b[0m\u001b[1;33m[\u001b[0m\u001b[0mi\u001b[0m\u001b[1;33m,\u001b[0m\u001b[0mj\u001b[0m\u001b[1;33m]\u001b[0m \u001b[1;33m=\u001b[0m \u001b[0ma\u001b[0m\u001b[1;33m[\u001b[0m\u001b[0mi\u001b[0m\u001b[1;33m]\u001b[0m\u001b[1;33m\u001b[0m\u001b[1;33m\u001b[0m\u001b[0m\n\u001b[0;32m     15\u001b[0m             \u001b[0mz\u001b[0m \u001b[1;33m+=\u001b[0m \u001b[0mpi\u001b[0m\u001b[1;33m[\u001b[0m\u001b[0mi\u001b[0m\u001b[1;33m,\u001b[0m\u001b[0mj\u001b[0m\u001b[1;33m]\u001b[0m\u001b[1;33m*\u001b[0m\u001b[1;33m(\u001b[0m\u001b[0mi\u001b[0m\u001b[1;33m-\u001b[0m\u001b[0mj\u001b[0m\u001b[1;33m)\u001b[0m\u001b[1;33m**\u001b[0m\u001b[1;36m2\u001b[0m\u001b[1;33m\u001b[0m\u001b[1;33m\u001b[0m\u001b[0m\n",
      "\u001b[1;31mValueError\u001b[0m: The truth value of an array with more than one element is ambiguous. Use a.any() or a.all()"
     ]
    }
   ],
   "source": [
    "OT_1D(U,V)"
   ]
  },
  {
   "cell_type": "code",
   "execution_count": 7,
   "metadata": {},
   "outputs": [],
   "source": [
    "# Print iterations progress\n",
    "def printProgressBar (iteration, total, prefix = '', suffix = '', decimals = 1, length = 100, fill = '█', printEnd = \"\\r\"):\n",
    "    \"\"\"\n",
    "    Call in a loop to create terminal progress bar\n",
    "    @params:\n",
    "        iteration   - Required  : current iteration (Int)\n",
    "        total       - Required  : total iterations (Int)\n",
    "        prefix      - Optional  : prefix string (Str)\n",
    "        suffix      - Optional  : suffix string (Str)\n",
    "        decimals    - Optional  : positive number of decimals in percent complete (Int)\n",
    "        length      - Optional  : character length of bar (Int)\n",
    "        fill        - Optional  : bar fill character (Str)\n",
    "        printEnd    - Optional  : end character (e.g. \"\\r\", \"\\r\\n\") (Str)\n",
    "    \"\"\"\n",
    "    percent = (\"{0:.\" + str(decimals) + \"f}\").format(100 * (iteration / float(total)))\n",
    "    filledLength = int(length * iteration // total)\n",
    "    bar = fill * filledLength + '-' * (length - filledLength)\n",
    "    print(f'\\r{prefix} |{bar}| {percent}% {suffix}', end = printEnd)\n",
    "    # Print New Line on Complete\n",
    "    if iteration == total: \n",
    "        print()\n",
    "    "
   ]
  },
  {
   "cell_type": "code",
   "execution_count": 8,
   "metadata": {},
   "outputs": [
    {
     "name": "stdout",
     "output_type": "stream",
     "text": [
      "Progress: |██████████████████████████████████████████████████| 100.0% Complete\n"
     ]
    }
   ],
   "source": [
    "mu1 = [0.4,0.187]\n",
    "mu2 = [0.795,0.490]\n",
    "#mu = [0.5,0.5]\n",
    "sigma = np.array([[0.07,0],[0,0.07]])\n",
    "n = 20\n",
    "\n",
    "t = list()\n",
    "TSP = list()\n",
    "\n",
    "printProgressBar(0, 50, prefix = 'Progress:', suffix = 'Complete', length = 50)\n",
    "for i in range(50):\n",
    "    Z1 = list(filter(lambda x: x[0] <= 1 and x[0] >= 0 and x[1]<= 1 and x[1]>=0, [np.random.default_rng().multivariate_normal(mu1,sigma) for i in range(n)]))\n",
    "    Z2 = list(filter(lambda x: x[0] <= 1 and x[0] >= 0 and x[1]<= 1 and x[1]>=0, [np.random.default_rng().multivariate_normal(mu2,sigma) for i in range(n)]))\n",
    "    U = Z1 + Z2\n",
    "\n",
    "    Z1 = list(filter(lambda x: x[0] <= 1 and x[0] >= 0 and x[1]<= 1 and x[1]>=0, [np.random.default_rng().multivariate_normal(mu1,sigma) for i in range(n)]))\n",
    "    Z2 = list(filter(lambda x: x[0] <= 1 and x[0] >= 0 and x[1]<= 1 and x[1]>=0, [np.random.default_rng().multivariate_normal(mu2,sigma) for i in range(n)]))\n",
    "    V = Z1 + Z2\n",
    "\n",
    "    while len(U)<len(V):\n",
    "        V.pop()\n",
    "    while len(U)>len(V):\n",
    "        U.pop()\n",
    "    Z = U + V\n",
    "    C = CostMatrix(Z)\n",
    "    C[len(U):,:len(U)] = 1e10*np.ones((len(U),len(U)))\n",
    "    C[:len(U),len(U):] = 1e10*np.ones((len(U),len(U)))\n",
    "    C += 1e10*np.eye(len(U)*2)\n",
    "    row_ind, col_ind = linear_sum_assignment(C)\n",
    "    #t.append(C[row_ind,col_ind].sum())\n",
    "    #TSP.append(tsp(U).obj.expr())\n",
    "    printProgressBar(i + 1, 50, prefix = 'Progress:', suffix = 'Complete', length = 50)\n",
    "\n",
    "    "
   ]
  },
  {
   "cell_type": "code",
   "execution_count": 10,
   "metadata": {},
   "outputs": [
    {
     "data": {
      "text/plain": [
       "2.9031521569403367"
      ]
     },
     "execution_count": 10,
     "metadata": {},
     "output_type": "execute_result"
    }
   ],
   "source": [
    "tsp(U).obj.expr()"
   ]
  },
  {
   "cell_type": "code",
   "execution_count": 5,
   "metadata": {},
   "outputs": [
    {
     "data": {
      "text/plain": [
       "<AxesSubplot:>"
      ]
     },
     "execution_count": 5,
     "metadata": {},
     "output_type": "execute_result"
    },
    {
     "data": {
      "image/png": "[encoded data removed]",
      "text/plain": [
       "<Figure size 432x288 with 1 Axes>"
      ]
     },
     "metadata": {
      "needs_background": "light"
     },
     "output_type": "display_data"
    }
   ],
   "source": [
    "import seaborn as sns\n",
    "sns.distplot(t)"
   ]
  },
  {
   "cell_type": "code",
   "execution_count": 6,
   "metadata": {},
   "outputs": [
    {
     "data": {
      "text/plain": [
       "<AxesSubplot:>"
      ]
     },
     "execution_count": 6,
     "metadata": {},
     "output_type": "execute_result"
    },
    {
     "data": {
      "image/png": "[encoded data removed]",
      "text/plain": [
       "<Figure size 432x288 with 1 Axes>"
      ]
     },
     "metadata": {
      "needs_background": "light"
     },
     "output_type": "display_data"
    }
   ],
   "source": [
    "sns.distplot(TSP)"
   ]
  },
  {
   "cell_type": "code",
   "execution_count": null,
   "metadata": {
    "scrolled": true
   },
   "outputs": [
    {
     "name": "stdout",
     "output_type": "stream",
     "text": [
      "[1, 2, 3, 4, 5, 6, 7, 8]\n",
      "[1, 2, 3, 4, 5, 6, 7, 8]\n",
      "------- Iterazione  1 -------\n"
     ]
    }
   ],
   "source": [
    "h = 100\n",
    "n = 4\n",
    "mu1 = [0.4,0.187]\n",
    "mu2 = [0.795,0.490]\n",
    "#mu = [0.5,0.5]\n",
    "sigma = np.array([[0.01,0],[0,0.01]])\n",
    "\n",
    "X = [[np.array((i/h, j/h)) for i in range(h)]for j in range(h)]\n",
    "Z1 = list(filter(lambda x: x[0] <= 1 and x[0] >= 0 and x[1]<= 1 and x[1]>=0, [np.random.default_rng().multivariate_normal(mu1,sigma) for i in range(n)]))\n",
    "Z2 = list(filter(lambda x: x[0] <= 1 and x[0] >= 0 and x[1]<= 1 and x[1]>=0, [np.random.default_rng().multivariate_normal(mu2,sigma) for i in range(n)]))\n",
    "U = Z1 + Z2\n",
    "\n",
    "Z1 = list(filter(lambda x: x[0] <= 1 and x[0] >= 0 and x[1]<= 1 and x[1]>=0, [np.random.default_rng().multivariate_normal(mu1,sigma) for i in range(n)]))\n",
    "Z2 = list(filter(lambda x: x[0] <= 1 and x[0] >= 0 and x[1]<= 1 and x[1]>=0, [np.random.default_rng().multivariate_normal(mu2,sigma) for i in range(n)]))\n",
    "V = Z1 + Z2\n",
    "\n",
    "C = MakeC(U,V)\n",
    "t = Compute_Matching(U,V,C)\n",
    "\n",
    "nu_tilda,L,UB = solve(U,X,t,h)"
   ]
  },
  {
   "cell_type": "code",
   "execution_count": 42,
   "metadata": {},
   "outputs": [
    {
     "data": {
      "text/plain": [
       "1.6699807835701101"
      ]
     },
     "execution_count": 42,
     "metadata": {},
     "output_type": "execute_result"
    }
   ],
   "source": [
    "0.7124*np.sqrt(len(U))*0.957"
   ]
  },
  {
   "cell_type": "code",
   "execution_count": 41,
   "metadata": {},
   "outputs": [
    {
     "data": {
      "text/plain": [
       "1.9320736038115407"
      ]
     },
     "execution_count": 41,
     "metadata": {},
     "output_type": "execute_result"
    }
   ],
   "source": [
    "tsp(U).obj.expr()"
   ]
  },
  {
   "cell_type": "code",
   "execution_count": 32,
   "metadata": {},
   "outputs": [],
   "source": [
    "import numpy as np\n",
    "from pyomo.environ import ConcreteModel, Var, Objective, Constraint, SolverFactory\n",
    "from pyomo.environ import minimize, RangeSet, NonNegativeReals, quicksum\n",
    "\n",
    "def MakeC(U,V, c=lambda x,y: np.linalg.norm(x-y)):\n",
    "    \n",
    "    \"\"\"\n",
    "    L=[U,V]\n",
    "    \"\"\"\n",
    "    n=len(U) \n",
    "    C=[]\n",
    "    for i in range(n):\n",
    "        CC=[]\n",
    "        for j in range(n):\n",
    "            CC.append(c(U[i],V[j]))\n",
    "        C.append(CC)\n",
    "    \n",
    "    return np.array(C)\n",
    "\n",
    "\n",
    "def Compute_Matching(U,V,C):\n",
    "    \n",
    "    n=len(U)\n",
    "    \n",
    "    mod = ConcreteModel()\n",
    "    \n",
    "    mod.I = RangeSet(1, n)\n",
    "    mod.J = RangeSet(1, n)\n",
    "    \n",
    "    mod.x = Var(mod.I, mod.J, within=NonNegativeReals)\n",
    "    \n",
    "    #funzione obiettivo\n",
    "    mod.obj = Objective(expr = quicksum([quicksum([C[i-1][j-1]*mod.x[i,j]  for i in mod.I]) for j in mod.J]), sense = minimize)\n",
    "\n",
    "    # constraint\n",
    "    mod.FixedMarginals1 = Constraint(mod.I, rule = lambda m, i: sum(m.x[i,j] for j in m.J) == 1/n)\n",
    "    mod.FixedMarginals2 = Constraint(mod.J, rule = lambda m, j: sum(m.x[i,j] for i in m.I) == 1/n)\n",
    "    \n",
    "    sol = SolverFactory(\"gurobi\", solver_io=\"python\").solve(mod)\n",
    "    \n",
    "    return mod.obj()"
   ]
  },
  {
   "cell_type": "code",
   "execution_count": 51,
   "metadata": {},
   "outputs": [],
   "source": [
    "C = MakeC(U,V)"
   ]
  },
  {
   "cell_type": "code",
   "execution_count": 52,
   "metadata": {},
   "outputs": [
    {
     "name": "stdout",
     "output_type": "stream",
     "text": [
      "[1, 2, 3, 4]\n",
      "[1, 2, 3, 4]\n"
     ]
    },
    {
     "data": {
      "text/plain": [
       "0.35201799181195226"
      ]
     },
     "execution_count": 52,
     "metadata": {},
     "output_type": "execute_result"
    }
   ],
   "source": [
    "Compute_Matching(U,V,C)"
   ]
  },
  {
   "cell_type": "code",
   "execution_count": 48,
   "metadata": {},
   "outputs": [],
   "source": [
    "Z1 = list(filter(lambda x: x[0] <= 1 and x[0] >= 0 and x[1]<= 1 and x[1]>=0, [np.random.default_rng().multivariate_normal(mu1,sigma) for i in range(n)]))\n",
    "Z2 = list(filter(lambda x: x[0] <= 1 and x[0] >= 0 and x[1]<= 1 and x[1]>=0, [np.random.default_rng().multivariate_normal(mu2,sigma) for i in range(n)]))\n",
    "U = Z1 + Z2\n",
    "\n",
    "Z1 = list(filter(lambda x: x[0] <= 1 and x[0] >= 0 and x[1]<= 1 and x[1]>=0, [np.random.default_rng().multivariate_normal(mu1,sigma) for i in range(n)]))\n",
    "Z2 = list(filter(lambda x: x[0] <= 1 and x[0] >= 0 and x[1]<= 1 and x[1]>=0, [np.random.default_rng().multivariate_normal(mu2,sigma) for i in range(n)]))\n",
    "V = Z1 + Z2"
   ]
  },
  {
   "cell_type": "code",
   "execution_count": 53,
   "metadata": {},
   "outputs": [
    {
     "data": {
      "text/plain": [
       "[0.7772761618155157,\n",
       " 0.22623279850191821,\n",
       " 0.28404888954822277,\n",
       " 0.4163528614315855,\n",
       " 0.33379936429693213,\n",
       " 0.32289436101759994,\n",
       " 0.4354722271528491]"
      ]
     },
     "execution_count": 53,
     "metadata": {},
     "output_type": "execute_result"
    }
   ],
   "source": [
    "nu_tilda"
   ]
  },
  {
   "cell_type": "code",
   "execution_count": 49,
   "metadata": {},
   "outputs": [
    {
     "data": {
      "text/plain": [
       "[array([0.20426518, 0.24934321]),\n",
       " array([0.60760693, 0.57825928]),\n",
       " array([0.58643673, 0.17765153]),\n",
       " array([0.65870331, 0.26562325])]"
      ]
     },
     "execution_count": 49,
     "metadata": {},
     "output_type": "execute_result"
    }
   ],
   "source": [
    "V"
   ]
  },
  {
   "cell_type": "code",
   "execution_count": 50,
   "metadata": {},
   "outputs": [
    {
     "data": {
      "text/plain": [
       "[array([0.75938097, 0.33016096]),\n",
       " array([0.92192439, 0.54174971]),\n",
       " array([0.59405986, 0.73928227]),\n",
       " array([0.79990609, 0.46772174])]"
      ]
     },
     "execution_count": 50,
     "metadata": {},
     "output_type": "execute_result"
    }
   ],
   "source": [
    "U"
   ]
  },
  {
   "cell_type": "code",
   "execution_count": null,
   "metadata": {},
   "outputs": [],
   "source": []
  }
 ],
 "metadata": {
  "kernelspec": {
   "display_name": "Python 3",
   "language": "python",
   "name": "python3"
  },
  "language_info": {
   "codemirror_mode": {
    "name": "ipython",
    "version": 3
   },
   "file_extension": ".py",
   "mimetype": "text/x-python",
   "name": "python",
   "nbconvert_exporter": "python",
   "pygments_lexer": "ipython3",
   "version": "3.7.7"
  }
 },
 "nbformat": 4,
 "nbformat_minor": 4
}
